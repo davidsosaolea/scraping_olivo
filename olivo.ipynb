{
 "cells": [
  {
   "attachments": {},
   "cell_type": "markdown",
   "metadata": {},
   "source": [
    "# Lista de paginas"
   ]
  },
  {
   "cell_type": "code",
   "execution_count": 1,
   "metadata": {},
   "outputs": [],
   "source": [
    "paginas = [\n",
    "'https://olivostore.pe/tienda-online/',\n",
    "'https://olivostore.pe/tienda-online/page/2/',\n",
    "'https://olivostore.pe/tienda-online/page/3/',\n",
    "'https://olivostore.pe/tienda-online/page/4/',\n",
    "'https://olivostore.pe/tienda-online/page/5/',\n",
    "'https://olivostore.pe/tienda-online/page/6/',\n",
    "'https://olivostore.pe/tienda-online/page/7/',\n",
    "'https://olivostore.pe/tienda-online/page/8/',\n",
    "'https://olivostore.pe/tienda-online/page/9/',\n",
    "'https://olivostore.pe/tienda-online/page/10/',\n",
    "'https://olivostore.pe/tienda-online/page/11/',\n",
    "]\n"
   ]
  },
  {
   "attachments": {},
   "cell_type": "markdown",
   "metadata": {},
   "source": [
    "# Obtiene enlace de los productos"
   ]
  },
  {
   "cell_type": "code",
   "execution_count": 2,
   "metadata": {},
   "outputs": [
    {
     "name": "stdout",
     "output_type": "stream",
     "text": [
      "['https://olivostore.pe/product/abrelatas-electrico/', 'https://olivostore.pe/product/airpods-case-mix/', 'https://olivostore.pe/product/airpods-case-pinguino/', 'https://olivostore.pe/product/airpods-case-y/', 'https://olivostore.pe/product/alfombra-olfativa/', 'https://olivostore.pe/product/anillo-vibrador/', 'https://olivostore.pe/product/bala-basic/', 'https://olivostore.pe/product/bala-vibradora-c-control/', 'https://olivostore.pe/product/bala-vibradora-usb/', 'https://olivostore.pe/product/block-de-notas-pop-it/', 'https://olivostore.pe/product/bolas-chinas-con-cola/', 'https://olivostore.pe/product/bolas-chinas-dobles/']\n"
     ]
    }
   ],
   "source": [
    "from bs4 import BeautifulSoup\n",
    "import requests\n",
    "import os\n",
    "import uuid\n",
    "\n",
    "# Realizar petición HTTP a la página\n",
    "url = 'https://olivostore.pe/tienda-online/'\n",
    "response = requests.get(url)\n",
    "\n",
    "# Crear objeto BeautifulSoup con el contenido HTML de la página\n",
    "soup = BeautifulSoup(response.content, 'html.parser')\n",
    "\n",
    "# encontrar todos los elementos 'a' con el atributo 'class' igual a 'product-image-link'\n",
    "link_elements = soup.find_all('a', {'class': 'product-image-link'})\n",
    "\n",
    "# obtener los valores del atributo 'href' y almacenarlos en una lista\n",
    "url_products = [link['href'] for link in link_elements]\n",
    "\n",
    "# imprimir los resultados\n",
    "print(url_products)\n"
   ]
  },
  {
   "attachments": {},
   "cell_type": "markdown",
   "metadata": {},
   "source": [
    "# Obtiene los enlaces de las imagenes"
   ]
  },
  {
   "cell_type": "code",
   "execution_count": 3,
   "metadata": {},
   "outputs": [
    {
     "name": "stdout",
     "output_type": "stream",
     "text": [
      "['https://i0.wp.com/olivostore.pe/wp-content/uploads/2023/03/50-1.jpg?fit=700%2C700&ssl=1', 'https://i0.wp.com/olivostore.pe/wp-content/uploads/2023/03/51-1.jpg?fit=700%2C700&ssl=1']\n"
     ]
    }
   ],
   "source": [
    "# Realizar petición HTTP a la página\n",
    "url = 'https://olivostore.pe/product/abrelatas-electrico/'\n",
    "response = requests.get(url)\n",
    "\n",
    "# Crear objeto BeautifulSoup con el contenido HTML de la página\n",
    "soup = BeautifulSoup(response.content, 'html.parser')\n",
    "\n",
    "# encuentra todos los elementos div con clase 'produc-image-wrap'\n",
    "image_divs = soup.find_all('div', {'class': 'product-image-wrap'})\n",
    "\n",
    "# crear una lista vacía para almacenar los URLs de las imágenes\n",
    "image_urls = []\n",
    "\n",
    "# recorrer cada div y extraer las URL de las imágenes\n",
    "for div in image_divs:\n",
    "    # find the img element within the div\n",
    "    img = div.find('img')\n",
    "    # extract the 'src' attribute of the img element\n",
    "    img_url = img['src']\n",
    "    # agregar el URL de la imagen a la lista\n",
    "    image_urls.append(img_url)\n",
    "\n",
    "# imprimir la lista de URLs de imágenes\n",
    "print(image_urls)\n"
   ]
  },
  {
   "attachments": {},
   "cell_type": "markdown",
   "metadata": {},
   "source": [
    "# Guarda las imagenes"
   ]
  },
  {
   "cell_type": "code",
   "execution_count": 4,
   "metadata": {},
   "outputs": [],
   "source": [
    "from bs4 import BeautifulSoup\n",
    "import requests\n",
    "import uuid\n",
    "\n",
    "# Realizar petición HTTP a la página\n",
    "url = 'https://olivostore.pe/product/abrelatas-electrico/'\n",
    "response = requests.get(url)\n",
    "\n",
    "# Crear objeto BeautifulSoup con el contenido HTML de la página\n",
    "soup = BeautifulSoup(response.content, 'html.parser')\n",
    "\n",
    "# encuentra todos los elementos div con clase 'produc-image-wrap'\n",
    "image_divs = soup.find_all('div', {'class': 'product-image-wrap'})\n",
    "\n",
    "# recorrer cada div y extraer las URL de las imágenes\n",
    "for i, div in enumerate(image_divs):\n",
    "    # find the img element within the div\n",
    "    img = div.find('img')\n",
    "    # extract the 'src' attribute of the img element\n",
    "    img_url = img['src']\n",
    "    # hacer una solicitud HTTP para descargar la imagen\n",
    "    response = requests.get(img_url)\n",
    "    # generar un identificador único para el archivo de imagen\n",
    "    img_name = str(uuid.uuid4()) + '.jpg'\n",
    "    # abrir un archivo y escribir la imagen en el archivo\n",
    "    with open(img_name, 'wb') as f:\n",
    "        f.write(response.content)\n"
   ]
  },
  {
   "attachments": {},
   "cell_type": "markdown",
   "metadata": {},
   "source": [
    "# Obtine el precio"
   ]
  },
  {
   "cell_type": "code",
   "execution_count": 5,
   "metadata": {},
   "outputs": [
    {
     "name": "stdout",
     "output_type": "stream",
     "text": [
      "19.0\n"
     ]
    }
   ],
   "source": [
    "from bs4 import BeautifulSoup\n",
    "import requests\n",
    "\n",
    "# Realizar petición HTTP a la página\n",
    "url = 'https://olivostore.pe/product/airpods-case-mix/'\n",
    "response = requests.get(url)\n",
    "\n",
    "# Crear objeto BeautifulSoup con el contenido HTML de la página\n",
    "soup = BeautifulSoup(response.content, 'html.parser')\n",
    "\n",
    "# encontrar el elemento 'bdi' dentro del elemento 'span' dentro del elemento 'p'\n",
    "price_element = soup.find('p', {'class': 'price'}).find('span').find('bdi')\n",
    "\n",
    "# obtener el texto del elemento 'bdi'\n",
    "price = price_element.text\n",
    "\n",
    "# imprimir el resultado\n",
    "price = float(price[2:])\n",
    "print(price)\n"
   ]
  },
  {
   "attachments": {},
   "cell_type": "markdown",
   "metadata": {},
   "source": [
    "# Obtiene las categorias "
   ]
  },
  {
   "cell_type": "code",
   "execution_count": 6,
   "metadata": {},
   "outputs": [
    {
     "name": "stdout",
     "output_type": "stream",
     "text": [
      "['Cocina']\n"
     ]
    }
   ],
   "source": [
    "# Realizar petición HTTP a la página\n",
    "url = 'https://olivostore.pe/product/abrelatas-electrico/'\n",
    "response = requests.get(url)\n",
    "\n",
    "# Crear objeto BeautifulSoup con el contenido HTML de la página\n",
    "soup = BeautifulSoup(response.content, 'html.parser')\n",
    "\n",
    "# encontrar el elemento 'span' con el atributo 'class' igual a 'posted_in'\n",
    "span_element = soup.find('span', {'class': 'posted_in'})\n",
    "\n",
    "# encontrar todos los elementos 'a' dentro del 'span'\n",
    "tag_elements = span_element.find_all('a')\n",
    "\n",
    "# extraer el texto de cada elemento 'a' y almacenarlo en una lista\n",
    "tag_list = [tag.text for tag in tag_elements]\n",
    "\n",
    "# imprimir el resultado\n",
    "print(tag_list)\n"
   ]
  },
  {
   "attachments": {},
   "cell_type": "markdown",
   "metadata": {},
   "source": [
    "# TODO"
   ]
  },
  {
   "cell_type": "code",
   "execution_count": 7,
   "metadata": {},
   "outputs": [
    {
     "name": "stdout",
     "output_type": "stream",
     "text": [
      "[['https://olivostore.pe/product/abrelatas-electrico/', 'https://olivostore.pe/product/airpods-case-mix/', 'https://olivostore.pe/product/airpods-case-pinguino/', 'https://olivostore.pe/product/airpods-case-y/', 'https://olivostore.pe/product/alfombra-olfativa/', 'https://olivostore.pe/product/anillo-vibrador/', 'https://olivostore.pe/product/bala-basic/', 'https://olivostore.pe/product/bala-vibradora-c-control/', 'https://olivostore.pe/product/bala-vibradora-usb/', 'https://olivostore.pe/product/block-de-notas-pop-it/', 'https://olivostore.pe/product/bolas-chinas-con-cola/', 'https://olivostore.pe/product/bolas-chinas-dobles/'], ['https://olivostore.pe/product/bolso-pop-it/', 'https://olivostore.pe/product/cable-lightning-1m/', 'https://olivostore.pe/product/cable-lightning-2m/', 'https://olivostore.pe/product/caja-de-panuelos/', 'https://olivostore.pe/product/cajon-invisible/', 'https://olivostore.pe/product/cargador-3-en-1-alpha/', 'https://olivostore.pe/product/cargador-4-en-1/', 'https://olivostore.pe/product/cargador-inalambrico/', 'https://olivostore.pe/product/cargador-magnetico/', 'https://olivostore.pe/product/cartera-lady/', 'https://olivostore.pe/product/cartera-tejida/', 'https://olivostore.pe/product/cartera-vifn/'], ['https://olivostore.pe/product/case-cobertor-iphone-12/', 'https://olivostore.pe/product/case-cobertor-iphone-12-pro/', 'https://olivostore.pe/product/case-cobertor-iphone-12-pro-max/', 'https://olivostore.pe/product/case-cobertor-iphone-13/', 'https://olivostore.pe/product/case-cobertor-iphone-13-pro/', 'https://olivostore.pe/product/case-cobertor-iphone-13-pro-max/', 'https://olivostore.pe/product/case-ipad-air-10-9-4-y-5/', 'https://olivostore.pe/product/case-ipad-pro-10-9-2018-2021-2022/', 'https://olivostore.pe/product/case-tarjetero-iphone-12/', 'https://olivostore.pe/product/case-tarjetero-iphone-12-pro/', 'https://olivostore.pe/product/case-tarjetero-iphone-12-pro-max/', 'https://olivostore.pe/product/case-tarjetero-iphone-13/'], ['https://olivostore.pe/product/case-tarjetero-iphone-13-pro/', 'https://olivostore.pe/product/case-tarjetero-iphone-13-pro-max/', 'https://olivostore.pe/product/cepillo-lavavajillas/', 'https://olivostore.pe/product/cerradura-electrica/', 'https://olivostore.pe/product/cesta-plegable/', 'https://olivostore.pe/product/comedor-3-en-1/', 'https://olivostore.pe/product/condimentero/', 'https://olivostore.pe/product/cubo-de-basura/', 'https://olivostore.pe/product/cucchara-medidora-con-clip/', 'https://olivostore.pe/product/dildo-bunny/', 'https://olivostore.pe/product/dildo-flor/', 'https://olivostore.pe/product/dildo-mariposa/'], ['https://olivostore.pe/product/difusor-con-llama/', 'https://olivostore.pe/product/dispensador-de-pasta-de-dientes/', 'https://olivostore.pe/product/escurridor-multifuncional/', 'https://olivostore.pe/product/espejo-visera-led/', 'https://olivostore.pe/product/estiramiento-facial-2/', 'https://olivostore.pe/product/extension-c-puerto-usb/', 'https://olivostore.pe/product/funda-laptop-s/', 'https://olivostore.pe/product/funda-laptop-m/', 'https://olivostore.pe/product/ganchos-adhesivos/', 'https://olivostore.pe/product/hervidor-de-tortilla-para-microondas/', 'https://olivostore.pe/product/hueso-masticable/', 'https://olivostore.pe/product/lampara-led-min-g/'], ['https://olivostore.pe/product/proyector-de-luz/', 'https://olivostore.pe/product/lampara-ritmica-rgb/', 'https://olivostore.pe/product/limpia-pata-medium/', 'https://olivostore.pe/product/limpia-pata-petit/', 'https://olivostore.pe/product/limpiador-de-vasos/', 'https://olivostore.pe/product/luces-interior-rgb/', 'https://olivostore.pe/product/luz-aro-led/', 'https://olivostore.pe/product/manta-arcoiris/', 'https://olivostore.pe/product/microfono/', 'https://olivostore.pe/product/microfono-vibrador/', 'https://olivostore.pe/product/minitenedores-de-animalitos/', 'https://olivostore.pe/product/minitenedores-de-ojitos/'], ['https://olivostore.pe/product/mochila-all-black/', 'https://olivostore.pe/product/mochila-ank/', 'https://olivostore.pe/product/mochila-basic/', 'https://olivostore.pe/product/mochila-design-2/', 'https://olivostore.pe/product/mochila-gancho/', 'https://olivostore.pe/product/mochila-leather/', 'https://olivostore.pe/product/mochila-love/', 'https://olivostore.pe/product/mochila-poaba/', 'https://olivostore.pe/product/mochila-tom/', 'https://olivostore.pe/product/mochila-yiqbei/', 'https://olivostore.pe/product/mochilas-square/', 'https://olivostore.pe/product/molinillo-2-en-1/'], ['https://olivostore.pe/product/mouse-beta/', 'https://olivostore.pe/product/mouse-con-cable/', 'https://olivostore.pe/product/mouse-mix-alfa/', 'https://olivostore.pe/product/mousepad-largo-rgb/', 'https://olivostore.pe/product/multi-alfombrilla/', 'https://olivostore.pe/product/ondas-sin-calor-2/', 'https://olivostore.pe/product/organizador-de-cables/', 'https://olivostore.pe/product/palo-de-ejercicio/', 'https://olivostore.pe/product/pelota-interactiva/', 'https://olivostore.pe/product/photo-botella/', 'https://olivostore.pe/product/pijama-gato/', 'https://olivostore.pe/product/pijama-unicornio/'], ['https://olivostore.pe/product/prensa-manual-de-ajo/', 'https://olivostore.pe/product/protector-animal/', 'https://olivostore.pe/product/pulsera-magnetica/', 'https://olivostore.pe/product/pulverizador-de-plantas/', 'https://olivostore.pe/product/rallador-manual/', 'https://olivostore.pe/product/rastreador-gps/', 'https://olivostore.pe/product/rodillo-quita-pelusa/', 'https://olivostore.pe/product/satisfier-4-en-1/', 'https://olivostore.pe/product/satisfier-pro/', 'https://olivostore.pe/product/set-full/', 'https://olivostore.pe/product/set-standar/', 'https://olivostore.pe/product/set-destornilladores/'], ['https://olivostore.pe/product/set-netbook/', 'https://olivostore.pe/product/soporte-de-celular-magnetico/', 'https://olivostore.pe/product/soporte-de-celular/', 'https://olivostore.pe/product/soporte-ipad/', 'https://olivostore.pe/product/soporte-movil/', 'https://olivostore.pe/product/tijera-multilaminas/', 'https://olivostore.pe/product/timbre-inalambrico/', 'https://olivostore.pe/product/toalla-deportiva/', 'https://olivostore.pe/product/tomatodo-cute/', 'https://olivostore.pe/product/tripode-iluminador/', 'https://olivostore.pe/product/tripode-portatil-led/'], []]\n"
     ]
    }
   ],
   "source": [
    "Paginas_list = []\n",
    "for pagina in paginas:\n",
    "    response = requests.get(pagina)\n",
    "\n",
    "    # Crear objeto BeautifulSoup con el contenido HTML de la página\n",
    "    soup = BeautifulSoup(response.content, 'html.parser')\n",
    "\n",
    "    # encontrar todos los elementos 'a' con el atributo 'class' igual a 'product-image-link'\n",
    "    link_elements = soup.find_all('a', {'class': 'product-image-link'})\n",
    "\n",
    "    # obtener los valores del atributo 'href' y almacenarlos en una lista\n",
    "    url_products = [link['href'] for link in link_elements]\n",
    "\n",
    "    # imprimir los resultados\n",
    "    Paginas_list.append(url_products)\n",
    "print(Paginas_list)"
   ]
  },
  {
   "cell_type": "code",
   "execution_count": 8,
   "metadata": {},
   "outputs": [
    {
     "name": "stdout",
     "output_type": "stream",
     "text": [
      "['abrelatas-electrico', 'airpods-case-mix', 'airpods-case-pinguino', 'airpods-case-y', 'alfombra-olfativa', 'anillo-vibrador', 'bala-basic', 'bala-vibradora-c-control', 'bala-vibradora-usb', 'block-de-notas-pop-it', 'bolas-chinas-con-cola', 'bolas-chinas-dobles', 'bolso-pop-it', 'cable-lightning-1m', 'cable-lightning-2m', 'caja-de-panuelos', 'cajon-invisible', 'cargador-3-en-1-alpha', 'cargador-4-en-1', 'cargador-inalambrico', 'cargador-magnetico', 'cartera-lady', 'cartera-tejida', 'cartera-vifn', 'case-cobertor-iphone-12', 'case-cobertor-iphone-12-pro', 'case-cobertor-iphone-12-pro-max', 'case-cobertor-iphone-13', 'case-cobertor-iphone-13-pro', 'case-cobertor-iphone-13-pro-max', 'case-ipad-air-10-9-4-y-5', 'case-ipad-pro-10-9-2018-2021-2022', 'case-tarjetero-iphone-12', 'case-tarjetero-iphone-12-pro', 'case-tarjetero-iphone-12-pro-max', 'case-tarjetero-iphone-13', 'case-tarjetero-iphone-13-pro', 'case-tarjetero-iphone-13-pro-max', 'cepillo-lavavajillas', 'cerradura-electrica', 'cesta-plegable', 'comedor-3-en-1', 'condimentero', 'cubo-de-basura', 'cucchara-medidora-con-clip', 'dildo-bunny', 'dildo-flor', 'dildo-mariposa', 'difusor-con-llama', 'dispensador-de-pasta-de-dientes', 'escurridor-multifuncional', 'espejo-visera-led', 'estiramiento-facial-2', 'extension-c-puerto-usb', 'funda-laptop-s', 'funda-laptop-m', 'ganchos-adhesivos', 'hervidor-de-tortilla-para-microondas', 'hueso-masticable', 'lampara-led-min-g', 'proyector-de-luz', 'lampara-ritmica-rgb', 'limpia-pata-medium', 'limpia-pata-petit', 'limpiador-de-vasos', 'luces-interior-rgb', 'luz-aro-led', 'manta-arcoiris', 'microfono', 'microfono-vibrador', 'minitenedores-de-animalitos', 'minitenedores-de-ojitos', 'mochila-all-black', 'mochila-ank', 'mochila-basic', 'mochila-design-2', 'mochila-gancho', 'mochila-leather', 'mochila-love', 'mochila-poaba', 'mochila-tom', 'mochila-yiqbei', 'mochilas-square', 'molinillo-2-en-1', 'mouse-beta', 'mouse-con-cable', 'mouse-mix-alfa', 'mousepad-largo-rgb', 'multi-alfombrilla', 'ondas-sin-calor-2', 'organizador-de-cables', 'palo-de-ejercicio', 'pelota-interactiva', 'photo-botella', 'pijama-gato', 'pijama-unicornio', 'prensa-manual-de-ajo', 'protector-animal', 'pulsera-magnetica', 'pulverizador-de-plantas', 'rallador-manual', 'rastreador-gps', 'rodillo-quita-pelusa', 'satisfier-4-en-1', 'satisfier-pro', 'set-full', 'set-standar', 'set-destornilladores', 'set-netbook', 'soporte-de-celular-magnetico', 'soporte-de-celular', 'soporte-ipad', 'soporte-movil', 'tijera-multilaminas', 'timbre-inalambrico', 'toalla-deportiva', 'tomatodo-cute', 'tripode-iluminador', 'tripode-portatil-led']\n",
      "[['Cocina'], ['Accesorios'], ['Accesorios'], ['Accesorios'], ['Mascotas'], ['Sextoys'], ['Sextoys'], ['Sextoys'], ['Sextoys'], ['Kawai'], ['Sextoys'], ['Sextoys'], ['Kawai'], ['Accesorios'], ['Accesorios'], ['Hogar'], ['Escritorio'], ['Tecnologia'], ['Tecnologia'], ['Automovil'], ['Automovil'], ['Moda'], ['Moda'], ['Moda'], ['Accesorios'], ['Accesorios'], ['Accesorios'], ['Accesorios'], ['Accesorios'], ['Accesorios'], ['Accesorios'], ['Accesorios'], ['Accesorios'], ['Accesorios'], ['Accesorios'], ['Accesorios'], ['Accesorios'], ['Accesorios'], ['Cocina'], ['Hogar', 'Ofertas'], ['Hogar'], ['Mascotas'], ['Cocina'], ['Hogar'], ['Cocina', 'Nuevos'], ['Sextoys'], ['Sextoys'], ['Sextoys'], ['Hogar'], ['Hogar'], ['Cocina'], ['Automovil', 'Ofertas'], ['Skincare'], ['Escritorio'], ['Escritorio'], ['Escritorio', 'Nuevos'], ['Hogar'], ['Cocina'], ['Mascotas'], ['Hogar', 'Nuevos'], ['Tecnologia'], ['Tecnologia'], ['Mascotas'], ['Mascotas'], ['Cocina'], ['Automovil'], ['Escritorio', 'Nuevos'], ['Hogar'], ['Escritorio'], ['Sextoys'], ['Kawai'], ['Kawai'], ['Moda'], ['Moda'], ['Moda'], ['Moda'], ['Moda'], ['Moda'], ['Moda'], ['Moda'], ['Moda'], ['Moda'], ['Moda'], ['Cocina'], ['Escritorio'], ['Escritorio'], ['Escritorio'], ['Escritorio'], ['Automovil'], ['Skincare'], ['Escritorio', 'Nuevos'], ['Hogar'], ['Mascotas'], ['Kawai'], ['Moda'], ['Moda'], ['Cocina', 'Nuevos'], ['Accesorios'], ['Herramientas'], ['Hogar'], ['Cocina'], ['Mascotas'], ['Hogar'], ['Sextoys'], ['Sextoys'], ['Herramientas'], ['Herramientas', 'Nuevos'], ['Herramientas', 'Nuevos', 'Ofertas'], ['Kawai'], ['Accesorios'], ['Accesorios'], ['Todos los productos'], ['Escritorio'], ['Cocina', 'Nuevos'], ['Hogar', 'Ofertas'], ['Hogar'], ['Cocina', 'Nuevos'], ['Tecnologia'], ['Hogar']]\n",
      "[35.0, 19.0, 29.0, 17.0, 75.0, 25.9, 61.5, 92.5, 72.5, 9.99, 29.9, 29.9, 13.0, 6.9, 29.0, 19.0, 9.99, 129.0, 70.0, 29.0, 69.0, 45.0, 45.0, 55.0, 19.0, 19.0, 19.0, 19.0, 19.0, 19.0, 49.0, 55.0, 15.0, 15.0, 15.0, 15.0, 15.0, 15.0, 11.0, 449.0, 25.0, 25.0, 63.5, 49.0, 15.0, 77.9, 122.5, 88.5, 49.0, 9.99, 15.0, 99.0, 19.0, 19.0, 35.0, 39.0, 9.99, 19.0, 9.99, 15.0, 49.0, 21.0, 75.0, 70.0, 18.0, 65.0, 25.0, 36.0, 49.0, 86.3, 15.0, 15.0, 45.0, 45.0, 45.0, 45.0, 45.0, 45.0, 45.0, 45.0, 45.0, 45.0, 45.0, 29.0, 15.0, 17.0, 17.0, 19.9, 39.0, 15.0, 9.99, 35.0, 11.0, 15.0, 56.9, 56.9, 9.99, 15.0, 19.99, 23.9, 29.0, 13.0, 9.99, 144.5, 248.5, 149.99, 129.99, 79.99, 15.0, 25.0, 17.0, 15.0, 9.99, 21.0, 45.0, 9.99, 19.0, 35.0, 35.0]\n",
      "[['https://i0.wp.com/olivostore.pe/wp-content/uploads/2023/03/50-1.jpg?fit=700%2C700&ssl=1', 'https://i0.wp.com/olivostore.pe/wp-content/uploads/2023/03/51-1.jpg?fit=700%2C700&ssl=1'], ['https://i0.wp.com/olivostore.pe/wp-content/uploads/2023/03/20-1.jpg?fit=700%2C700&ssl=1', 'https://i0.wp.com/olivostore.pe/wp-content/uploads/2023/03/21-1.jpg?fit=700%2C700&ssl=1', 'https://i0.wp.com/olivostore.pe/wp-content/uploads/2023/03/22-1.jpg?fit=700%2C700&ssl=1', 'https://i0.wp.com/olivostore.pe/wp-content/uploads/2023/03/23-1.jpg?fit=700%2C700&ssl=1', 'https://i0.wp.com/olivostore.pe/wp-content/uploads/2023/03/25-1.jpg?fit=700%2C700&ssl=1', 'https://i0.wp.com/olivostore.pe/wp-content/uploads/2023/03/24-1.jpg?fit=700%2C700&ssl=1'], ['https://i0.wp.com/olivostore.pe/wp-content/uploads/2023/03/26-1.jpg?fit=700%2C700&ssl=1', 'https://i0.wp.com/olivostore.pe/wp-content/uploads/2023/03/27-1.jpg?fit=700%2C700&ssl=1'], ['https://i0.wp.com/olivostore.pe/wp-content/uploads/2023/03/19-1.jpg?fit=700%2C700&ssl=1', 'https://i0.wp.com/olivostore.pe/wp-content/uploads/2023/03/18-1.jpg?fit=700%2C700&ssl=1'], ['https://i0.wp.com/olivostore.pe/wp-content/uploads/2023/03/160.jpg?fit=700%2C700&ssl=1', 'https://i0.wp.com/olivostore.pe/wp-content/uploads/2023/03/159.jpg?fit=700%2C700&ssl=1', 'https://i0.wp.com/olivostore.pe/wp-content/uploads/2023/03/161.jpg?fit=700%2C700&ssl=1'], ['https://olivostore.pe/wp-content/uploads/2023/03/7-2.svg', 'https://olivostore.pe/wp-content/uploads/2023/03/2-10.svg', 'https://olivostore.pe/wp-content/uploads/2023/03/3-10.svg'], ['https://olivostore.pe/wp-content/uploads/2023/03/3-12.svg', 'https://olivostore.pe/wp-content/uploads/2023/03/2-12.svg', 'https://olivostore.pe/wp-content/uploads/2023/03/4-12.svg', 'https://olivostore.pe/wp-content/uploads/2023/03/5-10.svg'], ['https://olivostore.pe/wp-content/uploads/2023/03/2-3.svg', 'https://olivostore.pe/wp-content/uploads/2023/03/3-3.svg', 'https://olivostore.pe/wp-content/uploads/2023/03/4-3.svg', 'https://olivostore.pe/wp-content/uploads/2023/03/5-3.svg'], ['https://olivostore.pe/wp-content/uploads/2023/03/3-2.svg', 'https://olivostore.pe/wp-content/uploads/2023/03/6-2.svg', 'https://olivostore.pe/wp-content/uploads/2023/03/5-2.svg', 'https://olivostore.pe/wp-content/uploads/2023/03/4-2.svg', 'https://olivostore.pe/wp-content/uploads/2023/03/2-2.svg'], ['https://i0.wp.com/olivostore.pe/wp-content/uploads/2023/03/96-1.jpg?fit=700%2C700&ssl=1', 'https://i0.wp.com/olivostore.pe/wp-content/uploads/2023/03/97-1.jpg?fit=700%2C700&ssl=1'], ['https://olivostore.pe/wp-content/uploads/2023/03/2-9.svg', 'https://olivostore.pe/wp-content/uploads/2023/03/3-9.svg', 'https://olivostore.pe/wp-content/uploads/2023/03/7-1.svg', 'https://olivostore.pe/wp-content/uploads/2023/03/8-1.svg'], ['https://olivostore.pe/wp-content/uploads/2023/03/2-8.svg', 'https://olivostore.pe/wp-content/uploads/2023/03/3-8.svg', 'https://olivostore.pe/wp-content/uploads/2023/03/4-8.svg'], ['https://i0.wp.com/olivostore.pe/wp-content/uploads/2023/03/98-1.jpg?fit=700%2C700&ssl=1', 'https://i0.wp.com/olivostore.pe/wp-content/uploads/2023/03/99.jpg?fit=700%2C700&ssl=1', 'https://i0.wp.com/olivostore.pe/wp-content/uploads/2023/03/100.jpg?fit=700%2C700&ssl=1', 'https://i0.wp.com/olivostore.pe/wp-content/uploads/2023/03/101.jpg?fit=700%2C700&ssl=1'], ['https://i0.wp.com/olivostore.pe/wp-content/uploads/2023/03/15-1.jpg?fit=700%2C700&ssl=1', 'https://i0.wp.com/olivostore.pe/wp-content/uploads/2023/03/16-1.jpg?fit=700%2C700&ssl=1', 'https://i0.wp.com/olivostore.pe/wp-content/uploads/2023/03/17-1.jpg?fit=700%2C700&ssl=1'], ['https://i0.wp.com/olivostore.pe/wp-content/uploads/2023/03/12-1.jpg?fit=700%2C700&ssl=1', 'https://i0.wp.com/olivostore.pe/wp-content/uploads/2023/03/14-1.jpg?fit=700%2C700&ssl=1', 'https://i0.wp.com/olivostore.pe/wp-content/uploads/2023/03/13-1.jpg?fit=700%2C700&ssl=1'], ['https://i0.wp.com/olivostore.pe/wp-content/uploads/2023/03/117.jpg?fit=700%2C700&ssl=1', 'https://i0.wp.com/olivostore.pe/wp-content/uploads/2023/03/118.jpg?fit=700%2C700&ssl=1'], ['https://i0.wp.com/olivostore.pe/wp-content/uploads/2023/03/80-1.jpg?fit=700%2C700&ssl=1', 'https://i0.wp.com/olivostore.pe/wp-content/uploads/2023/03/82-1.jpg?fit=700%2C700&ssl=1', 'https://i0.wp.com/olivostore.pe/wp-content/uploads/2023/03/81-1.jpg?fit=700%2C700&ssl=1'], ['https://i0.wp.com/olivostore.pe/wp-content/uploads/2023/03/23-2.jpg?fit=700%2C700&ssl=1', 'https://i0.wp.com/olivostore.pe/wp-content/uploads/2023/03/169.jpg?fit=700%2C700&ssl=1'], ['https://i0.wp.com/olivostore.pe/wp-content/uploads/2023/03/25.jpg?fit=700%2C700&ssl=1'], ['https://i0.wp.com/olivostore.pe/wp-content/uploads/2023/03/PRODUCTOS-STORE.jpg?fit=700%2C700&ssl=1', 'https://i0.wp.com/olivostore.pe/wp-content/uploads/2023/03/6.jpg?fit=700%2C700&ssl=1', 'https://i0.wp.com/olivostore.pe/wp-content/uploads/2023/03/1.jpg?fit=700%2C700&ssl=1', 'https://i0.wp.com/olivostore.pe/wp-content/uploads/2023/03/3.jpg?fit=700%2C700&ssl=1', 'https://i0.wp.com/olivostore.pe/wp-content/uploads/2023/03/4.jpg?fit=700%2C700&ssl=1'], ['https://i0.wp.com/olivostore.pe/wp-content/uploads/2023/03/3-2.jpg?fit=700%2C700&ssl=1', 'https://i0.wp.com/olivostore.pe/wp-content/uploads/2023/03/2-2.jpg?fit=700%2C700&ssl=1', 'https://i0.wp.com/olivostore.pe/wp-content/uploads/2023/03/1-2.jpg?fit=700%2C700&ssl=1'], ['https://i0.wp.com/olivostore.pe/wp-content/uploads/2022/03/cartera-lady-roj.jpg?fit=700%2C700&ssl=1', 'https://i0.wp.com/olivostore.pe/wp-content/uploads/2022/03/cartera-lady-roj.jpg?fit=700%2C700&ssl=1'], ['https://i0.wp.com/olivostore.pe/wp-content/uploads/2022/03/cartera-tejida-negra.jpg?fit=700%2C700&ssl=1', 'https://i0.wp.com/olivostore.pe/wp-content/uploads/2022/03/cartera-tejida-negra.jpg?fit=700%2C700&ssl=1'], ['https://i0.wp.com/olivostore.pe/wp-content/uploads/2022/01/cartera-vifn-2.jpg?fit=700%2C700&ssl=1'], ['https://olivostore.pe/wp-content/uploads/2023/04/X8-PRO-MAX-5.svg', 'https://olivostore.pe/wp-content/uploads/2023/04/X8-PRO-MAX-6.svg'], ['https://olivostore.pe/wp-content/uploads/2023/04/X8-PRO-MAX-5.svg', 'https://olivostore.pe/wp-content/uploads/2023/04/X8-PRO-MAX-6.svg'], ['https://olivostore.pe/wp-content/uploads/2023/04/X8-PRO-MAX-5.svg', 'https://olivostore.pe/wp-content/uploads/2023/04/X8-PRO-MAX-6.svg'], ['https://olivostore.pe/wp-content/uploads/2023/04/X8-PRO-MAX-5.svg', 'https://olivostore.pe/wp-content/uploads/2023/04/X8-PRO-MAX-6.svg'], ['https://olivostore.pe/wp-content/uploads/2023/04/X8-PRO-MAX-5.svg', 'https://olivostore.pe/wp-content/uploads/2023/04/X8-PRO-MAX-6.svg'], ['https://olivostore.pe/wp-content/uploads/2023/04/X8-PRO-MAX-5.svg', 'https://olivostore.pe/wp-content/uploads/2023/04/X8-PRO-MAX-6.svg'], ['https://i0.wp.com/olivostore.pe/wp-content/uploads/2023/03/image-8db6b08f57a246cdbd8f2f9b8b15fec1.webp?fit=700%2C700&ssl=1'], ['https://i0.wp.com/olivostore.pe/wp-content/uploads/2023/03/image-4c3348e6476b4998841a114386373616-scaled.webp?fit=700%2C700&ssl=1'], ['https://olivostore.pe/wp-content/uploads/2023/04/X8-PRO-MAX-2.svg', 'https://olivostore.pe/wp-content/uploads/2023/04/X8-PRO-MAX-4.svg', 'https://olivostore.pe/wp-content/uploads/2023/04/X8-PRO-MAX-3.svg'], ['https://olivostore.pe/wp-content/uploads/2023/04/X8-PRO-MAX-2.svg', 'https://olivostore.pe/wp-content/uploads/2023/04/X8-PRO-MAX-4.svg', 'https://olivostore.pe/wp-content/uploads/2023/04/X8-PRO-MAX-3.svg'], ['https://olivostore.pe/wp-content/uploads/2023/04/X8-PRO-MAX-2.svg', 'https://olivostore.pe/wp-content/uploads/2023/04/X8-PRO-MAX-3.svg', 'https://olivostore.pe/wp-content/uploads/2023/04/X8-PRO-MAX-4.svg'], ['https://olivostore.pe/wp-content/uploads/2023/04/X8-PRO-MAX-2.svg', 'https://olivostore.pe/wp-content/uploads/2023/04/X8-PRO-MAX-3.svg', 'https://olivostore.pe/wp-content/uploads/2023/04/X8-PRO-MAX-4.svg'], ['https://olivostore.pe/wp-content/uploads/2023/04/X8-PRO-MAX-2.svg', 'https://olivostore.pe/wp-content/uploads/2023/04/X8-PRO-MAX-3.svg', 'https://olivostore.pe/wp-content/uploads/2023/04/X8-PRO-MAX-4.svg'], ['https://olivostore.pe/wp-content/uploads/2023/04/X8-PRO-MAX-2.svg', 'https://olivostore.pe/wp-content/uploads/2023/04/X8-PRO-MAX-3.svg', 'https://olivostore.pe/wp-content/uploads/2023/04/X8-PRO-MAX-4.svg'], ['https://i0.wp.com/olivostore.pe/wp-content/uploads/2023/03/49-1.jpg?fit=700%2C700&ssl=1', 'https://i0.wp.com/olivostore.pe/wp-content/uploads/2023/03/48-1.jpg?fit=700%2C700&ssl=1'], ['https://i0.wp.com/olivostore.pe/wp-content/uploads/2023/03/124.jpg?fit=700%2C700&ssl=1', 'https://i0.wp.com/olivostore.pe/wp-content/uploads/2023/03/126.jpg?fit=700%2C700&ssl=1', 'https://i0.wp.com/olivostore.pe/wp-content/uploads/2023/03/127.jpg?fit=700%2C700&ssl=1', 'https://i0.wp.com/olivostore.pe/wp-content/uploads/2023/03/125.jpg?fit=700%2C700&ssl=1'], ['https://i0.wp.com/olivostore.pe/wp-content/uploads/2023/03/134.jpg?fit=700%2C700&ssl=1', 'https://i0.wp.com/olivostore.pe/wp-content/uploads/2023/03/133.jpg?fit=700%2C700&ssl=1', 'https://i0.wp.com/olivostore.pe/wp-content/uploads/2023/03/135.jpg?fit=700%2C700&ssl=1'], ['https://i0.wp.com/olivostore.pe/wp-content/uploads/2023/03/149.jpg?fit=700%2C700&ssl=1', 'https://i0.wp.com/olivostore.pe/wp-content/uploads/2023/03/148.jpg?fit=700%2C700&ssl=1', 'https://i0.wp.com/olivostore.pe/wp-content/uploads/2023/03/147.jpg?fit=700%2C700&ssl=1'], ['https://olivostore.pe/wp-content/uploads/2023/03/5-12.svg', 'https://olivostore.pe/wp-content/uploads/2023/03/2-15.svg', 'https://olivostore.pe/wp-content/uploads/2023/03/4-15.svg', 'https://olivostore.pe/wp-content/uploads/2023/03/3-15.svg'], ['https://i0.wp.com/olivostore.pe/wp-content/uploads/2023/03/131.jpg?fit=700%2C700&ssl=1', 'https://i0.wp.com/olivostore.pe/wp-content/uploads/2023/03/132.jpg?fit=700%2C700&ssl=1'], ['https://i0.wp.com/olivostore.pe/wp-content/uploads/2023/03/4-2.jpg?fit=700%2C700&ssl=1', 'https://i0.wp.com/olivostore.pe/wp-content/uploads/2023/03/6-2.jpg?fit=700%2C700&ssl=1', 'https://i0.wp.com/olivostore.pe/wp-content/uploads/2023/03/5-2.jpg?fit=700%2C700&ssl=1'], ['https://olivostore.pe/wp-content/uploads/2023/03/2-6.svg', 'https://olivostore.pe/wp-content/uploads/2023/03/3-6.svg', 'https://olivostore.pe/wp-content/uploads/2023/03/4-6.svg'], ['https://olivostore.pe/wp-content/uploads/2023/03/5-7.svg', 'https://olivostore.pe/wp-content/uploads/2023/03/2-7.svg', 'https://olivostore.pe/wp-content/uploads/2023/03/3-7.svg', 'https://olivostore.pe/wp-content/uploads/2023/03/4-7.svg'], ['https://i0.wp.com/olivostore.pe/wp-content/uploads/2022/03/dildo-mariposa-2.jpg?fit=700%2C700&ssl=1', 'https://i0.wp.com/olivostore.pe/wp-content/uploads/2022/03/dildo-mariposa-1.jpg?fit=700%2C700&ssl=1', 'https://i0.wp.com/olivostore.pe/wp-content/uploads/2022/03/dildo-mariposa-3.jpg?fit=700%2C700&ssl=1'], ['https://olivostore.pe/wp-content/uploads/2023/03/48-2.svg', 'https://olivostore.pe/wp-content/uploads/2023/03/50-2.svg', 'https://olivostore.pe/wp-content/uploads/2023/03/49-2.svg'], ['https://i0.wp.com/olivostore.pe/wp-content/uploads/2023/03/121.jpg?fit=700%2C700&ssl=1', 'https://i0.wp.com/olivostore.pe/wp-content/uploads/2023/03/120.jpg?fit=700%2C700&ssl=1', 'https://i0.wp.com/olivostore.pe/wp-content/uploads/2023/03/119.jpg?fit=700%2C700&ssl=1'], ['https://olivostore.pe/wp-content/uploads/2023/03/30.svg', 'https://olivostore.pe/wp-content/uploads/2023/03/32.svg', 'https://olivostore.pe/wp-content/uploads/2023/03/31.svg'], ['https://i0.wp.com/olivostore.pe/wp-content/uploads/2023/03/43-1.jpg?fit=700%2C700&ssl=1', 'https://i0.wp.com/olivostore.pe/wp-content/uploads/2023/03/42-1.jpg?fit=700%2C700&ssl=1'], ['https://i0.wp.com/olivostore.pe/wp-content/uploads/2022/03/estiramiento-facial-1.jpg?fit=700%2C700&ssl=1', 'https://i0.wp.com/olivostore.pe/wp-content/uploads/2022/03/estiramiento-facial-3.jpg?fit=700%2C700&ssl=1', 'https://i0.wp.com/olivostore.pe/wp-content/uploads/2022/03/estiramiento-facial-2.jpg?fit=700%2C700&ssl=1'], ['https://i0.wp.com/olivostore.pe/wp-content/uploads/2022/03/extension-con-puerto-usb-2.jpg?fit=700%2C700&ssl=1'], ['https://i0.wp.com/olivostore.pe/wp-content/uploads/2023/03/86-1.jpg?fit=700%2C700&ssl=1', 'https://i0.wp.com/olivostore.pe/wp-content/uploads/2023/03/87-1.jpg?fit=700%2C700&ssl=1', 'https://i0.wp.com/olivostore.pe/wp-content/uploads/2023/03/85-1.jpg?fit=700%2C700&ssl=1'], ['https://i0.wp.com/olivostore.pe/wp-content/uploads/2023/03/86-1.jpg?fit=700%2C700&ssl=1', 'https://i0.wp.com/olivostore.pe/wp-content/uploads/2023/03/88-1.jpg?fit=700%2C700&ssl=1', 'https://i0.wp.com/olivostore.pe/wp-content/uploads/2023/03/85-1.jpg?fit=700%2C700&ssl=1'], ['https://i0.wp.com/olivostore.pe/wp-content/uploads/2023/03/141.jpg?fit=700%2C700&ssl=1', 'https://i0.wp.com/olivostore.pe/wp-content/uploads/2023/03/139.jpg?fit=700%2C700&ssl=1', 'https://i0.wp.com/olivostore.pe/wp-content/uploads/2023/03/140.jpg?fit=700%2C700&ssl=1'], ['https://i0.wp.com/olivostore.pe/wp-content/uploads/2023/03/56-1.jpg?fit=700%2C700&ssl=1', 'https://i0.wp.com/olivostore.pe/wp-content/uploads/2023/03/57-1.jpg?fit=700%2C700&ssl=1'], ['https://i0.wp.com/olivostore.pe/wp-content/uploads/2023/03/153.jpg?fit=700%2C700&ssl=1', 'https://i0.wp.com/olivostore.pe/wp-content/uploads/2023/03/154.jpg?fit=700%2C700&ssl=1', 'https://i0.wp.com/olivostore.pe/wp-content/uploads/2023/03/152.jpg?fit=700%2C700&ssl=1'], ['https://i0.wp.com/olivostore.pe/wp-content/uploads/2023/03/112.jpg?fit=700%2C700&ssl=1', 'https://i0.wp.com/olivostore.pe/wp-content/uploads/2023/03/113.jpg?fit=700%2C700&ssl=1', 'https://i0.wp.com/olivostore.pe/wp-content/uploads/2023/03/114.jpg?fit=700%2C700&ssl=1'], ['https://i0.wp.com/olivostore.pe/wp-content/uploads/2023/03/162.jpg?fit=700%2C700&ssl=1', 'https://i0.wp.com/olivostore.pe/wp-content/uploads/2023/03/163.jpg?fit=700%2C700&ssl=1', 'https://i0.wp.com/olivostore.pe/wp-content/uploads/2023/03/164.jpg?fit=700%2C700&ssl=1'], ['https://i0.wp.com/olivostore.pe/wp-content/uploads/2023/03/175.jpg?fit=700%2C700&ssl=1', 'https://i0.wp.com/olivostore.pe/wp-content/uploads/2023/03/174.jpg?fit=700%2C700&ssl=1'], ['https://i0.wp.com/olivostore.pe/wp-content/uploads/2023/03/151.jpg?fit=700%2C700&ssl=1'], ['https://i0.wp.com/olivostore.pe/wp-content/uploads/2023/03/150.jpg?fit=700%2C700&ssl=1'], ['https://i0.wp.com/olivostore.pe/wp-content/uploads/2023/03/70-1.jpg?fit=700%2C700&ssl=1', 'https://i0.wp.com/olivostore.pe/wp-content/uploads/2023/03/71-1.jpg?fit=700%2C700&ssl=1'], ['https://i0.wp.com/olivostore.pe/wp-content/uploads/2023/03/24-2.jpg?fit=700%2C700&ssl=1', 'https://i0.wp.com/olivostore.pe/wp-content/uploads/2023/03/21-2.jpg?fit=700%2C700&ssl=1'], ['https://i0.wp.com/olivostore.pe/wp-content/uploads/2023/03/76-1.jpg?fit=700%2C700&ssl=1'], ['https://i0.wp.com/olivostore.pe/wp-content/uploads/2023/03/142.jpg?fit=700%2C700&ssl=1', 'https://i0.wp.com/olivostore.pe/wp-content/uploads/2023/03/143.jpg?fit=700%2C700&ssl=1'], ['https://i0.wp.com/olivostore.pe/wp-content/uploads/2022/03/41Y5l0SvDQL_222424221831_55.jpeg?fit=500%2C500&ssl=1', 'https://i0.wp.com/olivostore.pe/wp-content/uploads/2022/08/razer-seiren-v2-pro-gallery-5.jpeg?fit=700%2C467&ssl=1'], ['https://olivostore.pe/wp-content/uploads/2023/03/3-5.svg', 'https://olivostore.pe/wp-content/uploads/2023/03/8.svg', 'https://olivostore.pe/wp-content/uploads/2023/03/4-5.svg', 'https://olivostore.pe/wp-content/uploads/2023/03/2-5.svg'], ['https://i0.wp.com/olivostore.pe/wp-content/uploads/2023/03/92-1.jpg?fit=700%2C700&ssl=1', 'https://i0.wp.com/olivostore.pe/wp-content/uploads/2023/03/93-1.jpg?fit=700%2C700&ssl=1'], ['https://i0.wp.com/olivostore.pe/wp-content/uploads/2023/03/94-1.jpg?fit=700%2C700&ssl=1', 'https://i0.wp.com/olivostore.pe/wp-content/uploads/2023/03/95-1.jpg?fit=700%2C700&ssl=1'], ['https://olivostore.pe/wp-content/uploads/2023/03/4-16.svg', 'https://olivostore.pe/wp-content/uploads/2023/03/2-16.svg', 'https://olivostore.pe/wp-content/uploads/2023/03/3-16.svg', 'https://olivostore.pe/wp-content/uploads/2023/03/5-13.svg', 'https://olivostore.pe/wp-content/uploads/2023/03/6-8.svg'], ['https://i0.wp.com/olivostore.pe/wp-content/uploads/2022/03/mochila-ank-3.jpg?fit=700%2C700&ssl=1', 'https://i0.wp.com/olivostore.pe/wp-content/uploads/2022/03/mochila-ank-2.jpg?fit=700%2C700&ssl=1', 'https://i0.wp.com/olivostore.pe/wp-content/uploads/2022/03/mochila-ank-4.jpg?fit=700%2C700&ssl=1', 'https://i0.wp.com/olivostore.pe/wp-content/uploads/2022/03/mochila-ank-6.jpg?fit=700%2C700&ssl=1'], ['https://i0.wp.com/olivostore.pe/wp-content/uploads/2022/03/mochila-basic-2.jpg?fit=700%2C700&ssl=1', 'https://i0.wp.com/olivostore.pe/wp-content/uploads/2022/03/mochila-basic-3.jpg?fit=700%2C700&ssl=1', 'https://i0.wp.com/olivostore.pe/wp-content/uploads/2022/03/mochila-basic-1.jpg?fit=700%2C700&ssl=1', 'https://i0.wp.com/olivostore.pe/wp-content/uploads/2022/03/mochila-basic-5.jpg?fit=700%2C700&ssl=1', 'https://i0.wp.com/olivostore.pe/wp-content/uploads/2022/03/mochila-basic-4.jpg?fit=700%2C700&ssl=1'], ['https://olivostore.pe/wp-content/uploads/2023/03/2-14.svg', 'https://olivostore.pe/wp-content/uploads/2023/03/3-14.svg', 'https://olivostore.pe/wp-content/uploads/2023/03/4-14.svg'], ['https://olivostore.pe/wp-content/uploads/2023/03/2-17.svg', 'https://olivostore.pe/wp-content/uploads/2023/03/3-17.svg'], ['https://i0.wp.com/olivostore.pe/wp-content/uploads/2022/03/mochila-leather-1.jpg?fit=700%2C700&ssl=1', 'https://i0.wp.com/olivostore.pe/wp-content/uploads/2022/03/mochila-leather-3.jpg?fit=700%2C700&ssl=1', 'https://i0.wp.com/olivostore.pe/wp-content/uploads/2022/03/mochila-leather-2.jpg?fit=700%2C700&ssl=1'], ['https://i0.wp.com/olivostore.pe/wp-content/uploads/2022/03/mochila-love-1.jpg?fit=700%2C700&ssl=1', 'https://i0.wp.com/olivostore.pe/wp-content/uploads/2022/03/mochila-love-2.jpg?fit=700%2C700&ssl=1', 'https://i0.wp.com/olivostore.pe/wp-content/uploads/2022/03/mochila-love-3.jpg?fit=700%2C700&ssl=1', 'https://i0.wp.com/olivostore.pe/wp-content/uploads/2022/03/mochila-love-4.jpg?fit=700%2C700&ssl=1'], ['https://i0.wp.com/olivostore.pe/wp-content/uploads/2022/03/mochila-poaba-1.jpg?fit=700%2C700&ssl=1', 'https://i0.wp.com/olivostore.pe/wp-content/uploads/2022/03/mochila-poaba-3.jpg?fit=700%2C700&ssl=1', 'https://i0.wp.com/olivostore.pe/wp-content/uploads/2022/03/mochila-poaba-2.jpg?fit=700%2C700&ssl=1', 'https://i0.wp.com/olivostore.pe/wp-content/uploads/2022/03/mochila-poaba-4.jpg?fit=700%2C700&ssl=1', 'https://i0.wp.com/olivostore.pe/wp-content/uploads/2022/03/mochila-poaba-5.jpg?fit=700%2C700&ssl=1'], ['https://i0.wp.com/olivostore.pe/wp-content/uploads/2022/03/mochila-tom-1.jpg?fit=700%2C700&ssl=1', 'https://i0.wp.com/olivostore.pe/wp-content/uploads/2022/03/mochila-tom-2.jpg?fit=700%2C700&ssl=1'], ['https://i0.wp.com/olivostore.pe/wp-content/uploads/2022/03/mochila-yiqbei-1.jpg?fit=700%2C700&ssl=1', 'https://i0.wp.com/olivostore.pe/wp-content/uploads/2022/03/mochila-yiqbei-2.jpg?fit=700%2C700&ssl=1', 'https://i0.wp.com/olivostore.pe/wp-content/uploads/2022/03/mochila-yiqbei-3.jpg?fit=700%2C700&ssl=1', 'https://i0.wp.com/olivostore.pe/wp-content/uploads/2022/03/mochila-yiqbei-4.jpg?fit=700%2C700&ssl=1', 'https://i0.wp.com/olivostore.pe/wp-content/uploads/2022/03/mochila-yiqbei-5.jpg?fit=700%2C700&ssl=1', 'https://i0.wp.com/olivostore.pe/wp-content/uploads/2022/03/mochila-yiqbei-6.jpg?fit=700%2C700&ssl=1'], ['https://i0.wp.com/olivostore.pe/wp-content/uploads/2022/03/mochila-square-2.jpg?fit=700%2C700&ssl=1', 'https://i0.wp.com/olivostore.pe/wp-content/uploads/2022/03/mochila-square-4.jpg?fit=700%2C700&ssl=1', 'https://i0.wp.com/olivostore.pe/wp-content/uploads/2022/03/mochila-square-2.jpg?fit=700%2C700&ssl=1', 'https://i0.wp.com/olivostore.pe/wp-content/uploads/2022/03/mochila-square-3.jpg?fit=700%2C700&ssl=1', 'https://i0.wp.com/olivostore.pe/wp-content/uploads/2022/03/mochila-square-5.jpg?fit=700%2C700&ssl=1', 'https://i0.wp.com/olivostore.pe/wp-content/uploads/2022/03/mochila-square-6.jpg?fit=700%2C700&ssl=1', 'https://i0.wp.com/olivostore.pe/wp-content/uploads/2022/03/mochila-square-7.jpg?fit=700%2C700&ssl=1'], ['https://i0.wp.com/olivostore.pe/wp-content/uploads/2023/03/62-1.jpg?fit=700%2C700&ssl=1', 'https://i0.wp.com/olivostore.pe/wp-content/uploads/2023/03/61-1.jpg?fit=700%2C700&ssl=1'], ['https://olivostore.pe/wp-content/plugins/woocommerce/assets/images/placeholder.png'], ['https://olivostore.pe/wp-content/uploads/2023/03/36.svg', 'https://olivostore.pe/wp-content/uploads/2023/03/70.svg'], ['https://i0.wp.com/olivostore.pe/wp-content/uploads/2023/03/90-1.jpg?fit=700%2C700&ssl=1', 'https://i0.wp.com/olivostore.pe/wp-content/uploads/2023/03/89-1.jpg?fit=700%2C700&ssl=1'], ['https://olivostore.pe/wp-content/uploads/2022/03/2-1.svg', 'https://olivostore.pe/wp-content/uploads/2022/03/Imagenes-OLVSTR-WP.svg', 'https://olivostore.pe/wp-content/uploads/2022/03/3-1.svg'], ['https://i0.wp.com/olivostore.pe/wp-content/uploads/2023/03/35-1.jpg?fit=700%2C700&ssl=1', 'https://i0.wp.com/olivostore.pe/wp-content/uploads/2023/03/34-1.jpg?fit=700%2C700&ssl=1'], ['https://i0.wp.com/olivostore.pe/wp-content/uploads/2022/03/ondas-sin-calor-1.jpg?fit=700%2C700&ssl=1', 'https://olivostore.pe/wp-content/uploads/2023/02/Ondas-sin-calor-colores.heic'], ['https://i0.wp.com/olivostore.pe/wp-content/uploads/2023/03/83-1.jpg?fit=700%2C700&ssl=1', 'https://i0.wp.com/olivostore.pe/wp-content/uploads/2023/03/84-1.jpg?fit=700%2C700&ssl=1'], ['https://olivostore.pe/wp-content/uploads/2023/03/Imagenes-OLVSTR-WP-2.svg', 'https://olivostore.pe/wp-content/uploads/2023/03/3-19.svg', 'https://olivostore.pe/wp-content/uploads/2023/03/4-18.svg', 'https://olivostore.pe/wp-content/uploads/2023/03/5-14.svg', 'https://olivostore.pe/wp-content/uploads/2023/03/6-9.svg', 'https://olivostore.pe/wp-content/uploads/2023/03/8-3.svg'], ['https://i0.wp.com/olivostore.pe/wp-content/uploads/2023/03/155.jpg?fit=700%2C700&ssl=1', 'https://i0.wp.com/olivostore.pe/wp-content/uploads/2023/03/158.jpg?fit=700%2C700&ssl=1', 'https://i0.wp.com/olivostore.pe/wp-content/uploads/2023/03/156.jpg?fit=700%2C700&ssl=1', 'https://i0.wp.com/olivostore.pe/wp-content/uploads/2023/03/157.jpg?fit=700%2C700&ssl=1'], ['https://i0.wp.com/olivostore.pe/wp-content/uploads/2023/03/104.jpg?fit=700%2C700&ssl=1', 'https://i0.wp.com/olivostore.pe/wp-content/uploads/2023/03/105.jpg?fit=700%2C700&ssl=1'], ['https://olivostore.pe/wp-content/uploads/2023/03/2-18.svg', 'https://olivostore.pe/wp-content/uploads/2023/03/3-18.svg', 'https://olivostore.pe/wp-content/uploads/2023/03/4-17.svg'], ['https://olivostore.pe/wp-content/uploads/2023/03/2-13.svg', 'https://olivostore.pe/wp-content/uploads/2023/03/3-13.svg', 'https://olivostore.pe/wp-content/uploads/2023/03/4-13.svg', 'https://olivostore.pe/wp-content/uploads/2023/03/5-11.svg'], ['https://i0.wp.com/olivostore.pe/wp-content/uploads/2023/03/58-1.jpg?fit=700%2C700&ssl=1', 'https://i0.wp.com/olivostore.pe/wp-content/uploads/2023/03/60-1.jpg?fit=700%2C700&ssl=1', 'https://i0.wp.com/olivostore.pe/wp-content/uploads/2023/03/59-1.jpg?fit=700%2C700&ssl=1'], ['https://i0.wp.com/olivostore.pe/wp-content/uploads/2023/03/9-1.jpg?fit=700%2C700&ssl=1', 'https://i0.wp.com/olivostore.pe/wp-content/uploads/2023/03/10-1.jpg?fit=700%2C700&ssl=1'], ['https://i0.wp.com/olivostore.pe/wp-content/uploads/2023/03/106.jpg?fit=700%2C700&ssl=1', 'https://i0.wp.com/olivostore.pe/wp-content/uploads/2023/03/107.jpg?fit=700%2C700&ssl=1'], ['https://i0.wp.com/olivostore.pe/wp-content/uploads/2023/03/37-2.jpg?fit=700%2C700&ssl=1', 'https://i0.wp.com/olivostore.pe/wp-content/uploads/2023/03/35-2.jpg?fit=700%2C700&ssl=1', 'https://i0.wp.com/olivostore.pe/wp-content/uploads/2023/03/36-2.jpg?fit=700%2C700&ssl=1'], ['https://i0.wp.com/olivostore.pe/wp-content/uploads/2023/03/67-1.jpg?fit=700%2C700&ssl=1', 'https://i0.wp.com/olivostore.pe/wp-content/uploads/2023/03/68-1.jpg?fit=700%2C700&ssl=1'], ['https://i0.wp.com/olivostore.pe/wp-content/uploads/2023/03/145.jpg?fit=700%2C700&ssl=1', 'https://i0.wp.com/olivostore.pe/wp-content/uploads/2023/03/146.jpg?fit=700%2C700&ssl=1', 'https://i0.wp.com/olivostore.pe/wp-content/uploads/2023/03/144.jpg?fit=700%2C700&ssl=1'], ['https://i0.wp.com/olivostore.pe/wp-content/uploads/2023/03/130.jpg?fit=700%2C700&ssl=1', 'https://i0.wp.com/olivostore.pe/wp-content/uploads/2023/03/129.jpg?fit=700%2C700&ssl=1', 'https://i0.wp.com/olivostore.pe/wp-content/uploads/2023/03/128.jpg?fit=700%2C700&ssl=1'], ['https://olivostore.pe/wp-content/uploads/2023/03/2-11.svg', 'https://olivostore.pe/wp-content/uploads/2023/03/3-11.svg', 'https://olivostore.pe/wp-content/uploads/2023/03/4-11.svg'], ['https://olivostore.pe/wp-content/uploads/2023/03/3-4.svg', 'https://olivostore.pe/wp-content/uploads/2023/03/2-4.svg', 'https://olivostore.pe/wp-content/uploads/2023/03/4-4.svg', 'https://olivostore.pe/wp-content/uploads/2023/03/5-4.svg'], ['https://olivostore.pe/wp-content/uploads/2023/03/39-2.svg', 'https://olivostore.pe/wp-content/uploads/2023/03/41-2.svg', 'https://olivostore.pe/wp-content/uploads/2023/03/40-2.svg'], ['https://i0.wp.com/olivostore.pe/wp-content/uploads/2023/03/108.jpg?fit=700%2C700&ssl=1', 'https://i0.wp.com/olivostore.pe/wp-content/uploads/2023/03/109.jpg?fit=700%2C700&ssl=1'], ['https://olivostore.pe/wp-content/uploads/2023/03/65.svg', 'https://olivostore.pe/wp-content/uploads/2023/03/45.svg'], ['https://i0.wp.com/olivostore.pe/wp-content/uploads/2023/03/102.jpg?fit=700%2C700&ssl=1', 'https://i0.wp.com/olivostore.pe/wp-content/uploads/2023/03/103.jpg?fit=700%2C700&ssl=1'], ['https://i0.wp.com/olivostore.pe/wp-content/uploads/2023/03/6-1.jpg?fit=700%2C700&ssl=1', 'https://i0.wp.com/olivostore.pe/wp-content/uploads/2023/03/5-1.jpg?fit=700%2C700&ssl=1', 'https://i0.wp.com/olivostore.pe/wp-content/uploads/2023/03/7-1.jpg?fit=700%2C700&ssl=1', 'https://i0.wp.com/olivostore.pe/wp-content/uploads/2023/03/8-1.jpg?fit=700%2C700&ssl=1'], ['https://i0.wp.com/olivostore.pe/wp-content/uploads/2023/03/38-2.jpg?fit=700%2C700&ssl=1', 'https://i0.wp.com/olivostore.pe/wp-content/uploads/2023/03/42-2.jpg?fit=700%2C700&ssl=1', 'https://i0.wp.com/olivostore.pe/wp-content/uploads/2023/03/41-2.jpg?fit=700%2C700&ssl=1', 'https://i0.wp.com/olivostore.pe/wp-content/uploads/2023/03/40-2.jpg?fit=700%2C700&ssl=1', 'https://i0.wp.com/olivostore.pe/wp-content/uploads/2023/03/39-2.jpg?fit=700%2C700&ssl=1'], ['https://olivostore.pe/wp-content/plugins/woocommerce/assets/images/placeholder.png'], ['https://i0.wp.com/olivostore.pe/wp-content/uploads/2023/03/75-1.jpg?fit=700%2C700&ssl=1', 'https://i0.wp.com/olivostore.pe/wp-content/uploads/2023/03/74-1.jpg?fit=700%2C700&ssl=1', 'https://i0.wp.com/olivostore.pe/wp-content/uploads/2023/03/73-1.jpg?fit=700%2C700&ssl=1'], ['https://i0.wp.com/olivostore.pe/wp-content/uploads/2023/03/9-2.jpg?fit=700%2C700&ssl=1', 'https://i0.wp.com/olivostore.pe/wp-content/uploads/2023/03/10-2.jpg?fit=700%2C700&ssl=1', 'https://i0.wp.com/olivostore.pe/wp-content/uploads/2023/03/11-2.jpg?fit=700%2C700&ssl=1'], ['https://i0.wp.com/olivostore.pe/wp-content/uploads/2023/03/122.jpg?fit=700%2C700&ssl=1', 'https://i0.wp.com/olivostore.pe/wp-content/uploads/2023/03/186.jpg?fit=700%2C700&ssl=1', 'https://i0.wp.com/olivostore.pe/wp-content/uploads/2023/03/123.jpg?fit=700%2C700&ssl=1'], ['https://olivostore.pe/wp-content/uploads/2023/03/24-1.svg', 'https://olivostore.pe/wp-content/uploads/2023/03/23-1.svg', 'https://olivostore.pe/wp-content/uploads/2023/03/22-1.svg'], ['https://i0.wp.com/olivostore.pe/wp-content/uploads/2023/03/64-1.jpg?fit=700%2C700&ssl=1', 'https://i0.wp.com/olivostore.pe/wp-content/uploads/2023/03/65-1.jpg?fit=700%2C700&ssl=1', 'https://i0.wp.com/olivostore.pe/wp-content/uploads/2023/03/63-1.jpg?fit=700%2C700&ssl=1', 'https://i0.wp.com/olivostore.pe/wp-content/uploads/2023/03/66-1.jpg?fit=700%2C700&ssl=1'], ['https://i0.wp.com/olivostore.pe/wp-content/uploads/2023/03/167.jpg?fit=700%2C700&ssl=1', 'https://i0.wp.com/olivostore.pe/wp-content/uploads/2023/03/166.jpg?fit=700%2C700&ssl=1', 'https://i0.wp.com/olivostore.pe/wp-content/uploads/2023/03/165.jpg?fit=700%2C700&ssl=1'], ['https://i0.wp.com/olivostore.pe/wp-content/uploads/2023/03/78-1.jpg?fit=700%2C700&ssl=1', 'https://i0.wp.com/olivostore.pe/wp-content/uploads/2023/03/92.jpg?fit=700%2C700&ssl=1']]\n"
     ]
    }
   ],
   "source": [
    "Price_list = []\n",
    "Name_list = []\n",
    "Tag_list = []\n",
    "Img_list = []\n",
    "# Crear la carpeta para las imágenes si no existe\n",
    "carpeta_imagenes = 'imagenes'\n",
    "if not os.path.exists(carpeta_imagenes):\n",
    "    os.makedirs(carpeta_imagenes)\n",
    "for pagina in Paginas_list:\n",
    "    for productos in pagina:\n",
    "        \n",
    "        #### PRICE\n",
    "        # Realizar petición HTTP a la página\n",
    "        url = productos\n",
    "        response = requests.get(url)\n",
    "\n",
    "        # Crear objeto BeautifulSoup con el contenido HTML de la página\n",
    "        soup = BeautifulSoup(response.content, 'html.parser')\n",
    "\n",
    "        # encontrar el elemento 'bdi' dentro del elemento 'span' dentro del elemento 'p'\n",
    "        price_element = soup.find('p', {'class': 'price'}).find('span').find('bdi')\n",
    "\n",
    "        # obtener el texto del elemento 'bdi'\n",
    "        price = price_element.text\n",
    "        \n",
    "        # imprimir el resultado\n",
    "        price = float(price[2:])\n",
    "        Price_list.append(price)    \n",
    "        \n",
    "        ##### TAGS\n",
    "        # encontrar el elemento 'span' con el atributo 'class' igual a 'posted_in'\n",
    "        span_element = soup.find('span', {'class': 'posted_in'})\n",
    "\n",
    "        # encontrar todos los elementos 'a' dentro del 'span'\n",
    "        tag_elements = span_element.find_all('a')\n",
    "\n",
    "        # extraer el texto de cada elemento 'a' y almacenarlo en una lista\n",
    "        tag_list = [tag.text for tag in tag_elements]\n",
    "        Tag_list.append(tag_list) \n",
    "        \n",
    "        ### IMAGENES\n",
    "        # encuentra todos los elementos div con clase 'produc-image-wrap'\n",
    "        image_divs = soup.find_all('div', {'class': 'product-image-wrap'})\n",
    "\n",
    "        # crear una lista vacía para almacenar los URLs de las imágenes\n",
    "        image_urls = []\n",
    "\n",
    "        # recorrer cada div y extraer las URL de las imágenes\n",
    "        for div in image_divs:\n",
    "            # find the img element within the div\n",
    "            img = div.find('img')\n",
    "            # extract the 'src' attribute of the img element\n",
    "            img_url = img['src']\n",
    "            # agregar el URL de la imagen a la lista\n",
    "            image_urls.append(img_url)\n",
    "\n",
    "        # imprimir la lista de URLs de imágenes\n",
    "        #print(image_urls)\n",
    "        Img_list.append(image_urls)\n",
    "        \n",
    "        \n",
    "\n",
    "             \n",
    "        #### NAME\n",
    "        \n",
    "        # utilizar la función split() para dividir la URL en partes\n",
    "        partes_url = url.split('/')\n",
    "        \n",
    "        # extraer el texto entre los dos últimos '/'\n",
    "        texto = partes_url[-2]\n",
    "        \n",
    "        # imprimir el texto\n",
    "        #print(texto)\n",
    "        Name_list.append(texto)\n",
    "        \n",
    "print(Name_list)\n",
    "print(Tag_list)       \n",
    "print(Price_list)\n",
    "print(Img_list)\n"
   ]
  },
  {
   "cell_type": "code",
   "execution_count": 9,
   "metadata": {},
   "outputs": [],
   "source": [
    "import pandas as pd"
   ]
  },
  {
   "cell_type": "code",
   "execution_count": 10,
   "metadata": {},
   "outputs": [],
   "source": [
    "Price_buy = [price * 1.55 for price in Price_list]"
   ]
  },
  {
   "cell_type": "code",
   "execution_count": 11,
   "metadata": {},
   "outputs": [],
   "source": [
    "# Crear un diccionario que contenga cada lista como un valor\n",
    "data = {'Name': Name_list, 'Purchase price': Price_list, 'Tags': Tag_list, 'sale price': Price_buy, 'Image': Img_list}\n",
    "\n",
    "# Convertir el diccionario a un DataFrame de Pandas\n",
    "df = pd.DataFrame(data)\n",
    "\n",
    "# Imprimir el DataFrame resultante\n",
    "# print(df)"
   ]
  },
  {
   "cell_type": "code",
   "execution_count": 12,
   "metadata": {},
   "outputs": [],
   "source": [
    "# Guardar el dataframe en un archivo CSV\n",
    "df.to_csv('olivo_store.csv', index=False)"
   ]
  },
  {
   "attachments": {},
   "cell_type": "markdown",
   "metadata": {},
   "source": [
    "## DESCARGA IMAGENES"
   ]
  },
  {
   "cell_type": "code",
   "execution_count": 13,
   "metadata": {},
   "outputs": [],
   "source": [
    "###### descarga imagenes\n",
    "        \n",
    "# encuentra todos los elementos div con clase 'produc-image-wrap'\n",
    "image_divs = soup.find_all('div', {'class': 'product-image-wrap'})\n",
    "\n",
    "# recorrer cada div y extraer las URL de las imágenes\n",
    "for i, div in enumerate(image_divs):\n",
    "# find the img element within the div\n",
    "    img = div.find('img')\n",
    "# extract the 'src' attribute of the img element\n",
    "    img_url = img['src']\n",
    "# hacer una solicitud HTTP para descargar la imagen\n",
    "    response = requests.get(img_url)\n",
    "# generar un identificador único para el archivo de imagen\n",
    "    img_name = str(uuid.uuid4()) + '.jpg'\n",
    "            \n",
    "# Ruta completa de la carpeta y el archivo de imagen\n",
    "    img_path = os.path.join(carpeta_imagenes, img_name)\n",
    "        \n",
    "# Abrir el archivo en modo de escritura y escribir la imagen en él\n",
    "    with open(img_path, 'wb') as f:\n",
    "        f.write(response.content)    \n",
    "            "
   ]
  }
 ],
 "metadata": {
  "kernelspec": {
   "display_name": "venv",
   "language": "python",
   "name": "python3"
  },
  "language_info": {
   "codemirror_mode": {
    "name": "ipython",
    "version": 3
   },
   "file_extension": ".py",
   "mimetype": "text/x-python",
   "name": "python",
   "nbconvert_exporter": "python",
   "pygments_lexer": "ipython3",
   "version": "3.10.6"
  },
  "orig_nbformat": 4
 },
 "nbformat": 4,
 "nbformat_minor": 2
}
