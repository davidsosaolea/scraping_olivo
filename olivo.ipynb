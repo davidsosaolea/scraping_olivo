{
 "cells": [
  {
   "cell_type": "code",
   "execution_count": 29,
   "metadata": {},
   "outputs": [],
   "source": [
    "from bs4 import BeautifulSoup\n",
    "import requests\n",
    "import os\n",
    "import uuid\n",
    "import pandas as pd"
   ]
  },
  {
   "attachments": {},
   "cell_type": "markdown",
   "metadata": {},
   "source": [
    "# Lista de paginas"
   ]
  },
  {
   "cell_type": "code",
   "execution_count": 30,
   "metadata": {},
   "outputs": [],
   "source": [
    "paginas = [\n",
    "'https://olivostore.pe/tienda-online/page/1/',\n",
    "'https://olivostore.pe/tienda-online/page/2/',\n",
    "'https://olivostore.pe/tienda-online/page/3/',\n",
    "'https://olivostore.pe/tienda-online/page/4/',\n",
    "'https://olivostore.pe/tienda-online/page/5/',\n",
    "'https://olivostore.pe/tienda-online/page/6/',\n",
    "'https://olivostore.pe/tienda-online/page/7/',\n",
    "'https://olivostore.pe/tienda-online/page/8/',\n",
    "'https://olivostore.pe/tienda-online/page/9/',\n",
    "'https://olivostore.pe/tienda-online/page/10/',\n",
    "]\n"
   ]
  },
  {
   "attachments": {},
   "cell_type": "markdown",
   "metadata": {},
   "source": [
    "# Obtiene enlace de los productos"
   ]
  },
  {
   "cell_type": "code",
   "execution_count": 31,
   "metadata": {},
   "outputs": [
    {
     "name": "stdout",
     "output_type": "stream",
     "text": [
      "['https://olivostore.pe/product/abrelatas-electrico/', 'https://olivostore.pe/product/airpods-case-mix/', 'https://olivostore.pe/product/airpods-case-pinguino/', 'https://olivostore.pe/product/airpods-case-y/', 'https://olivostore.pe/product/alfombra-olfativa/', 'https://olivostore.pe/product/anillo-vibrador/', 'https://olivostore.pe/product/bala-basic/', 'https://olivostore.pe/product/bala-vibradora-c-control/', 'https://olivostore.pe/product/bala-vibradora-usb/', 'https://olivostore.pe/product/block-de-notas-pop-it/', 'https://olivostore.pe/product/bolas-chinas-con-cola/', 'https://olivostore.pe/product/bolas-chinas-dobles/']\n"
     ]
    }
   ],
   "source": [
    "# Realizar petición HTTP a la página\n",
    "url = 'https://olivostore.pe/tienda-online/'\n",
    "response = requests.get(url)\n",
    "\n",
    "# Crear objeto BeautifulSoup con el contenido HTML de la página\n",
    "soup = BeautifulSoup(response.content, 'html.parser')\n",
    "\n",
    "# encontrar todos los elementos 'a' con el atributo 'class' igual a 'product-image-link'\n",
    "link_elements = soup.find_all('a', {'class': 'product-image-link'})\n",
    "\n",
    "# obtener los valores del atributo 'href' y almacenarlos en una lista\n",
    "url_products = [link['href'] for link in link_elements]\n",
    "\n",
    "# imprimir los resultados\n",
    "print(url_products)\n"
   ]
  },
  {
   "attachments": {},
   "cell_type": "markdown",
   "metadata": {},
   "source": [
    "# Obtiene los enlaces de las imagenes"
   ]
  },
  {
   "cell_type": "code",
   "execution_count": 32,
   "metadata": {},
   "outputs": [
    {
     "name": "stdout",
     "output_type": "stream",
     "text": [
      "['https://i0.wp.com/olivostore.pe/wp-content/uploads/2023/03/50-1.jpg?fit=700%2C700&ssl=1', 'https://i0.wp.com/olivostore.pe/wp-content/uploads/2023/03/51-1.jpg?fit=700%2C700&ssl=1']\n"
     ]
    }
   ],
   "source": [
    "# Realizar petición HTTP a la página\n",
    "url = 'https://olivostore.pe/product/abrelatas-electrico/'\n",
    "response = requests.get(url)\n",
    "\n",
    "# Crear objeto BeautifulSoup con el contenido HTML de la página\n",
    "soup = BeautifulSoup(response.content, 'html.parser')\n",
    "\n",
    "# encuentra todos los elementos div con clase 'produc-image-wrap'\n",
    "image_divs = soup.find_all('div', {'class': 'product-image-wrap'})\n",
    "\n",
    "# crear una lista vacía para almacenar los URLs de las imágenes\n",
    "image_urls = []\n",
    "\n",
    "# recorrer cada div y extraer las URL de las imágenes\n",
    "for div in image_divs:\n",
    "    # find the img element within the div\n",
    "    img = div.find('img')\n",
    "    # extract the 'src' attribute of the img element\n",
    "    img_url = img['src']\n",
    "    # agregar el URL de la imagen a la lista\n",
    "    image_urls.append(img_url)\n",
    "\n",
    "# imprimir la lista de URLs de imágenes\n",
    "print(image_urls)\n"
   ]
  },
  {
   "attachments": {},
   "cell_type": "markdown",
   "metadata": {},
   "source": [
    "# Guarda las imagenes"
   ]
  },
  {
   "cell_type": "code",
   "execution_count": 33,
   "metadata": {},
   "outputs": [],
   "source": [
    "# Realizar petición HTTP a la página\n",
    "url = 'https://olivostore.pe/product/abrelatas-electrico/'\n",
    "response = requests.get(url)\n",
    "\n",
    "# Crear objeto BeautifulSoup con el contenido HTML de la página\n",
    "soup = BeautifulSoup(response.content, 'html.parser')\n",
    "\n",
    "# encuentra todos los elementos div con clase 'produc-image-wrap'\n",
    "image_divs = soup.find_all('div', {'class': 'product-image-wrap'})\n",
    "\n",
    "# recorrer cada div y extraer las URL de las imágenes\n",
    "for i, div in enumerate(image_divs):\n",
    "    # find the img element within the div\n",
    "    img = div.find('img')\n",
    "    # extract the 'src' attribute of the img element\n",
    "    img_url = img['src']\n",
    "    # hacer una solicitud HTTP para descargar la imagen\n",
    "    response = requests.get(img_url)\n",
    "    # generar un identificador único para el archivo de imagen\n",
    "    img_name = str(uuid.uuid4()) + '.jpg'\n",
    "    # abrir un archivo y escribir la imagen en el archivo\n",
    "    with open(img_name, 'wb') as f:\n",
    "        f.write(response.content)\n"
   ]
  },
  {
   "attachments": {},
   "cell_type": "markdown",
   "metadata": {},
   "source": [
    "# Obtine el precio"
   ]
  },
  {
   "cell_type": "code",
   "execution_count": 34,
   "metadata": {},
   "outputs": [
    {
     "name": "stdout",
     "output_type": "stream",
     "text": [
      "19.0\n"
     ]
    }
   ],
   "source": [
    "# Realizar petición HTTP a la página\n",
    "url = 'https://olivostore.pe/product/airpods-case-mix/'\n",
    "response = requests.get(url)\n",
    "\n",
    "# Crear objeto BeautifulSoup con el contenido HTML de la página\n",
    "soup = BeautifulSoup(response.content, 'html.parser')\n",
    "\n",
    "# encontrar el elemento 'bdi' dentro del elemento 'span' dentro del elemento 'p'\n",
    "price_element = soup.find('p', {'class': 'price'}).find('span').find('bdi')\n",
    "\n",
    "# obtener el texto del elemento 'bdi'\n",
    "price = price_element.text\n",
    "\n",
    "# imprimir el resultado\n",
    "price = float(price[2:])\n",
    "print(price)\n"
   ]
  },
  {
   "attachments": {},
   "cell_type": "markdown",
   "metadata": {},
   "source": [
    "# Obtiene las categorias "
   ]
  },
  {
   "cell_type": "code",
   "execution_count": 35,
   "metadata": {},
   "outputs": [
    {
     "name": "stdout",
     "output_type": "stream",
     "text": [
      "['Cocina']\n"
     ]
    }
   ],
   "source": [
    "# Realizar petición HTTP a la página\n",
    "url = 'https://olivostore.pe/product/abrelatas-electrico/'\n",
    "response = requests.get(url)\n",
    "\n",
    "# Crear objeto BeautifulSoup con el contenido HTML de la página\n",
    "soup = BeautifulSoup(response.content, 'html.parser')\n",
    "\n",
    "# encontrar el elemento 'span' con el atributo 'class' igual a 'posted_in'\n",
    "span_element = soup.find('span', {'class': 'posted_in'})\n",
    "\n",
    "# encontrar todos los elementos 'a' dentro del 'span'\n",
    "tag_elements = span_element.find_all('a')\n",
    "\n",
    "# extraer el texto de cada elemento 'a' y almacenarlo en una lista\n",
    "tag_list = [tag.text for tag in tag_elements]\n",
    "\n",
    "# imprimir el resultado\n",
    "print(tag_list)\n"
   ]
  },
  {
   "cell_type": "markdown",
   "metadata": {},
   "source": [
    "# TODO"
   ]
  },
  {
   "cell_type": "code",
   "execution_count": 54,
   "metadata": {},
   "outputs": [],
   "source": [
    "import requests\n",
    "from bs4 import BeautifulSoup\n",
    "import os\n",
    "import pandas as pd\n",
    "import uuid\n",
    "\n",
    "# Crear la carpeta para las imágenes si no existe\n",
    "carpeta_imagenes = 'imagenes'\n",
    "if not os.path.exists(carpeta_imagenes):\n",
    "    os.makedirs(carpeta_imagenes)\n",
    "\n",
    "# Crear las listas vacías\n",
    "Paginas_list = []\n",
    "Price_list = []\n",
    "Name_list = []\n",
    "Tag_list = []\n",
    "Img_list = []\n",
    "\n",
    "# Iterar sobre las páginas\n",
    "for i in range(1, 11):\n",
    "    # Construir la URL de la página\n",
    "    pagina = f'https://olivostore.pe/tienda-online/page/{i}/'\n",
    "    \n",
    "    response = requests.get(pagina)\n",
    "    soup = BeautifulSoup(response.content, 'html.parser')\n",
    "    link_elements = soup.find_all('a', {'class': 'product-image-link'})\n",
    "    url_products = [link['href'] for link in link_elements]\n",
    "    Paginas_list.append(url_products)\n",
    "\n",
    "# Iterar sobre las páginas listadas\n",
    "for pagina in Paginas_list:\n",
    "    for productos in pagina:\n",
    "        response = requests.get(productos)\n",
    "        soup = BeautifulSoup(response.content, 'html.parser')\n",
    "        \n",
    "        # Price\n",
    "        price_element = soup.find('p', {'class': 'price'}).find('span').find('bdi')\n",
    "        price = float(price_element.text[2:])\n",
    "        Price_list.append(price)    \n",
    "        \n",
    "        # Tags\n",
    "        span_element = soup.find('span', {'class': 'posted_in'})\n",
    "        tag_elements = span_element.find_all('a')\n",
    "        tag_list = [tag.text for tag in tag_elements]\n",
    "        Tag_list.append(tag_list) \n",
    "        \n",
    "        # Images\n",
    "        image_divs = soup.find_all('div', {'class': 'product-image-wrap'})\n",
    "        image_urls = [div.find('img')['src'] for div in image_divs]\n",
    "        Img_list.append(image_urls)\n",
    "        \n",
    "        # Descargar las imágenes\n",
    "        for img_url in image_urls:\n",
    "            response = requests.get(img_url)\n",
    "            img_name = f'{uuid.uuid4()}.jpg'\n",
    "            img_path = os.path.join(carpeta_imagenes, img_name)\n",
    "            with open(img_path, 'wb') as f:\n",
    "                f.write(response.content)\n",
    "        \n",
    "        # Name\n",
    "        partes_url = productos.split('/')\n",
    "        texto = partes_url[-2]\n",
    "        Name_list.append(texto)\n",
    "\n",
    "# Crear un DataFrame de Pandas\n",
    "Price_buy = [price * 1.55 for price in Price_list]\n",
    "data = {'Name': Name_list, 'Purchase price': Price_list, 'Tags': Tag_list, 'sale price': Price_buy, 'Image': Img_list}\n",
    "df = pd.DataFrame(data)\n",
    "\n",
    "# Guardar el dataframe en un archivo CSV\n",
    "df.to_csv('olivo_store.csv', index=False)\n"
   ]
  },
  {
   "cell_type": "code",
   "execution_count": null,
   "metadata": {},
   "outputs": [],
   "source": [
    "pip freeze > requirements.txt"
   ]
  }
 ],
 "metadata": {
  "kernelspec": {
   "display_name": "venv",
   "language": "python",
   "name": "python3"
  },
  "language_info": {
   "codemirror_mode": {
    "name": "ipython",
    "version": 3
   },
   "file_extension": ".py",
   "mimetype": "text/x-python",
   "name": "python",
   "nbconvert_exporter": "python",
   "pygments_lexer": "ipython3",
   "version": "3.10.6"
  },
  "orig_nbformat": 4
 },
 "nbformat": 4,
 "nbformat_minor": 2
}
